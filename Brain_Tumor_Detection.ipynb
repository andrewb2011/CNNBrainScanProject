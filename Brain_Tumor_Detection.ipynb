{
  "cells": [
    {
      "cell_type": "markdown",
      "metadata": {
        "id": "a6GK-gkaSA5V"
      },
      "source": [
        "# Import Libraries & Data"
      ]
    },
    {
      "cell_type": "code",
      "execution_count": null,
      "metadata": {
        "colab": {
          "base_uri": "https://localhost:8080/"
        },
        "id": "6ygjUIHB4J6s",
        "outputId": "c9c36a3b-c857-43d5-bab9-db7d00086212"
      },
      "outputs": [
        {
          "output_type": "stream",
          "name": "stdout",
          "text": [
            "Done\n"
          ]
        }
      ],
      "source": [
        "from zipfile import ZipFile\n",
        "file_name = '/content/BrainData.zip'\n",
        "\n",
        "with ZipFile(file_name, 'r') as zip:\n",
        "  zip.extractall()\n",
        "  print('Done')"
      ]
    },
    {
      "cell_type": "code",
      "execution_count": null,
      "metadata": {
        "id": "DjO4cVd5Qfxy"
      },
      "outputs": [],
      "source": [
        "# Import libraries\n",
        "import sys\n",
        "import os\n",
        "import time\n",
        "import random\n",
        "import tensorflow as tf\n",
        "import numpy as np\n",
        "import matplotlib.pyplot as plt\n",
        "import contextlib\n",
        "from sklearn.metrics import confusion_matrix\n",
        "from tensorflow.python.keras.metrics import Precision, Recall\n",
        "from IPython.display import display, clear_output\n",
        "from collections import Counter\n",
        "\n",
        "# Define directories\n",
        "train_dir = '/content/Brain/Brain_Tumor_Datasets/train'\n",
        "test_dir = '/content/Brain/Brain_Tumor_Datasets/test'"
      ]
    },
    {
      "cell_type": "markdown",
      "metadata": {
        "id": "nvGluzuQUF-2"
      },
      "source": [
        "# Model Setup & Data Augmentation"
      ]
    },
    {
      "cell_type": "code",
      "execution_count": null,
      "metadata": {
        "id": "XwtP_kd_RKyb"
      },
      "outputs": [],
      "source": [
        "# Function to preprocess images\n",
        "def preprocess_image(image):\n",
        "    image = tf.image.decode_jpeg(image, channels=3)\n",
        "    image = tf.image.resize(image, [150, 150])\n",
        "    image /= 255.0\n",
        "    return image\n",
        "\n",
        "# Function to load and preprocess images from file paths\n",
        "def load_and_preprocess_image(file_path):\n",
        "    image = tf.io.read_file(file_path)\n",
        "    return preprocess_image(image)\n",
        "\n",
        "# Function to create a dataset from a directory of images with labels\n",
        "def create_dataset(directory, augment=False):\n",
        "    file_list = tf.data.Dataset.list_files(directory + '/*/*')\n",
        "    dataset = file_list.map(lambda x: (load_and_preprocess_image(x),\n",
        "                                       0 if tf.strings.regex_full_match(x, '.*no/.*') else 1))\n",
        "    if augment:\n",
        "        dataset = dataset.map(lambda x, y: (tf.image.random_flip_left_right(x), y))\n",
        "    return dataset\n",
        "\n",
        "# Function to check for data leakage\n",
        "def check_data_leakage(train_dataset, test_dataset):\n",
        "    train_images = set()\n",
        "    test_images = set()\n",
        "\n",
        "    for file in tf.data.Dataset.list_files(train_dir + '/*/*'):\n",
        "        train_images.add(file.numpy())\n",
        "    for file in tf.data.Dataset.list_files(test_dir + '/*/*'):\n",
        "        test_images.add(file.numpy())\n",
        "\n",
        "    leakage = train_images.intersection(test_images)\n",
        "    return len(leakage) == 0"
      ]
    },
    {
      "cell_type": "code",
      "execution_count": null,
      "metadata": {
        "id": "QNXIsf10lqJk",
        "colab": {
          "base_uri": "https://localhost:8080/"
        },
        "outputId": "545ca602-ab0f-4b73-f96a-57777f7467d8"
      },
      "outputs": [
        {
          "output_type": "stream",
          "name": "stdout",
          "text": [
            "No data leakage detected.\n",
            "Training class distribution: Counter({1: 2884, 0: 2025})\n",
            "Test class distribution: Counter({1: 1035, 0: 717})\n"
          ]
        }
      ],
      "source": [
        "# Create train and test datasets\n",
        "full_train_dataset = create_dataset(train_dir, augment=False)\n",
        "test_dataset = create_dataset(test_dir).batch(32).prefetch(tf.data.experimental.AUTOTUNE)\n",
        "\n",
        "# Split the full training dataset into train and validation sets\n",
        "val_size = int(0.3 * len(list(full_train_dataset)))  # 30% for validation\n",
        "train_size = len(list(full_train_dataset)) - val_size\n",
        "\n",
        "train_dataset = full_train_dataset.take(train_size).shuffle(1000).batch(32).prefetch(tf.data.experimental.AUTOTUNE)\n",
        "val_dataset = full_train_dataset.skip(train_size).batch(32).prefetch(tf.data.experimental.AUTOTUNE)\n",
        "\n",
        "# Check for data leakage\n",
        "if not check_data_leakage(train_dataset, test_dataset):\n",
        "    print(\"Data leakage detected!\")\n",
        "else:\n",
        "    print(\"No data leakage detected.\")\n",
        "\n",
        "# Check class distribution\n",
        "def check_class_distribution(dataset, dataset_name):\n",
        "    class_counter = Counter()\n",
        "    for _, labels in dataset:\n",
        "        class_counter.update(labels.numpy())\n",
        "    print(f\"{dataset_name} class distribution: {class_counter}\")\n",
        "    return class_counter\n",
        "\n",
        "train_class_distribution = check_class_distribution(train_dataset, \"Training\")\n",
        "test_class_distribution = check_class_distribution(test_dataset, \"Test\")"
      ]
    },
    {
      "cell_type": "code",
      "execution_count": null,
      "metadata": {
        "id": "JCIzsD2fh0zA",
        "colab": {
          "base_uri": "https://localhost:8080/",
          "height": 564
        },
        "outputId": "95a12bdc-2fd4-488b-b168-8e61b7e4d089"
      },
      "outputs": [
        {
          "output_type": "display_data",
          "data": {
            "text/plain": [
              "<Figure size 1000x600 with 1 Axes>"
            ],
            "image/png": "[encoded data removed]"
          },
          "metadata": {}
        }
      ],
      "source": [
        "# Plot class distribution\n",
        "def plot_class_distribution(class_distribution, title):\n",
        "    labels = list(class_distribution.keys())\n",
        "    counts = list(class_distribution.values())\n",
        "    plt.figure(figsize=(10, 6))\n",
        "    plt.bar(labels, counts, color=['blue', 'orange'])\n",
        "    plt.title(title)\n",
        "    plt.xlabel('Class')\n",
        "    plt.ylabel('Number of Samples')\n",
        "    plt.xticks(ticks=[0, 1], labels=['Healthy', 'Tumorous'])\n",
        "    plt.show()\n",
        "\n",
        "# Plot Training Set Distribution\n",
        "plot_class_distribution(train_class_distribution, 'Training Set Class Distribution')"
      ]
    },
    {
      "cell_type": "code",
      "execution_count": null,
      "metadata": {
        "id": "fn6_arqk3sHW",
        "colab": {
          "base_uri": "https://localhost:8080/",
          "height": 564
        },
        "outputId": "16d55893-2e1e-49f2-d56b-fd6e246acdc9"
      },
      "outputs": [
        {
          "output_type": "display_data",
          "data": {
            "text/plain": [
              "<Figure size 1000x600 with 1 Axes>"
            ],
            "image/png": "[encoded data removed]"
          },
          "metadata": {}
        }
      ],
      "source": [
        "# Plot Test Set Distribution\n",
        "plot_class_distribution(test_class_distribution, 'Test Set Class Distribution')"
      ]
    },
    {
      "cell_type": "code",
      "execution_count": null,
      "metadata": {
        "id": "gMOEoxw1RV47"
      },
      "outputs": [],
      "source": [
        "# Define and compile the model\n",
        "def create_model():\n",
        "    model = tf.keras.Sequential([\n",
        "        tf.keras.layers.Conv2D(32, (3, 3), activation='relu', input_shape=(150, 150, 3)),\n",
        "        tf.keras.layers.MaxPooling2D((2, 2)),\n",
        "        tf.keras.layers.Conv2D(64, (3, 3), activation='relu'),\n",
        "        tf.keras.layers.MaxPooling2D((2, 2)),\n",
        "        tf.keras.layers.Conv2D(128, (3, 3), activation='relu'),\n",
        "        tf.keras.layers.MaxPooling2D((2, 2)),\n",
        "        tf.keras.layers.Flatten(),\n",
        "        tf.keras.layers.Dense(128, activation='relu'),\n",
        "        tf.keras.layers.Dropout(0.5),\n",
        "        tf.keras.layers.Dense(1, activation='sigmoid')\n",
        "    ])\n",
        "    model.compile(optimizer='adam',\n",
        "                  loss='binary_crossentropy',\n",
        "                  metrics=['accuracy', Precision(name='precision'), Recall(name='recall')])\n",
        "    return model\n",
        "\n",
        "model = create_model()"
      ]
    },
    {
      "cell_type": "markdown",
      "metadata": {
        "id": "_-wU_9gHT743"
      },
      "source": [
        "# Model Training & Validation Results"
      ]
    },
    {
      "cell_type": "code",
      "execution_count": null,
      "metadata": {
        "id": "HddQhJH3RYon",
        "colab": {
          "base_uri": "https://localhost:8080/",
          "height": 356
        },
        "outputId": "1721c6f5-e363-4154-9d33-9daebfcc58ca"
      },
      "outputs": [
        {
          "output_type": "error",
          "ename": "TypeError",
          "evalue": "TensorFlowTrainer.fit() got an unexpected keyword argument 'use_multiprocessing'",
          "traceback": [
            "\u001b[0;31m---------------------------------------------------------------------------\u001b[0m",
            "\u001b[0;31mTypeError\u001b[0m                                 Traceback (most recent call last)",
            "\u001b[0;32m<ipython-input-20-150ac7d01fc3>\u001b[0m in \u001b[0;36m<cell line: 5>\u001b[0;34m()\u001b[0m\n\u001b[1;32m      3\u001b[0m \u001b[0;34m\u001b[0m\u001b[0m\n\u001b[1;32m      4\u001b[0m \u001b[0;31m# Train the model\u001b[0m\u001b[0;34m\u001b[0m\u001b[0;34m\u001b[0m\u001b[0m\n\u001b[0;32m----> 5\u001b[0;31m history = model.fit(\n\u001b[0m\u001b[1;32m      6\u001b[0m     \u001b[0mtrain_dataset\u001b[0m\u001b[0;34m,\u001b[0m\u001b[0;34m\u001b[0m\u001b[0;34m\u001b[0m\u001b[0m\n\u001b[1;32m      7\u001b[0m     \u001b[0mepochs\u001b[0m\u001b[0;34m=\u001b[0m\u001b[0;36m20\u001b[0m\u001b[0;34m,\u001b[0m\u001b[0;34m\u001b[0m\u001b[0;34m\u001b[0m\u001b[0m\n",
            "\u001b[0;32m/usr/local/lib/python3.10/dist-packages/keras/src/utils/traceback_utils.py\u001b[0m in \u001b[0;36merror_handler\u001b[0;34m(*args, **kwargs)\u001b[0m\n\u001b[1;32m    120\u001b[0m             \u001b[0;31m# To get the full stack trace, call:\u001b[0m\u001b[0;34m\u001b[0m\u001b[0;34m\u001b[0m\u001b[0m\n\u001b[1;32m    121\u001b[0m             \u001b[0;31m# `keras.config.disable_traceback_filtering()`\u001b[0m\u001b[0;34m\u001b[0m\u001b[0;34m\u001b[0m\u001b[0m\n\u001b[0;32m--> 122\u001b[0;31m             \u001b[0;32mraise\u001b[0m \u001b[0me\u001b[0m\u001b[0;34m.\u001b[0m\u001b[0mwith_traceback\u001b[0m\u001b[0;34m(\u001b[0m\u001b[0mfiltered_tb\u001b[0m\u001b[0;34m)\u001b[0m \u001b[0;32mfrom\u001b[0m \u001b[0;32mNone\u001b[0m\u001b[0;34m\u001b[0m\u001b[0;34m\u001b[0m\u001b[0m\n\u001b[0m\u001b[1;32m    123\u001b[0m         \u001b[0;32mfinally\u001b[0m\u001b[0;34m:\u001b[0m\u001b[0;34m\u001b[0m\u001b[0;34m\u001b[0m\u001b[0m\n\u001b[1;32m    124\u001b[0m             \u001b[0;32mdel\u001b[0m \u001b[0mfiltered_tb\u001b[0m\u001b[0;34m\u001b[0m\u001b[0;34m\u001b[0m\u001b[0m\n",
            "\u001b[0;32m/usr/local/lib/python3.10/dist-packages/keras/src/utils/traceback_utils.py\u001b[0m in \u001b[0;36merror_handler\u001b[0;34m(*args, **kwargs)\u001b[0m\n\u001b[1;32m    115\u001b[0m         \u001b[0mfiltered_tb\u001b[0m \u001b[0;34m=\u001b[0m \u001b[0;32mNone\u001b[0m\u001b[0;34m\u001b[0m\u001b[0;34m\u001b[0m\u001b[0m\n\u001b[1;32m    116\u001b[0m         \u001b[0;32mtry\u001b[0m\u001b[0;34m:\u001b[0m\u001b[0;34m\u001b[0m\u001b[0;34m\u001b[0m\u001b[0m\n\u001b[0;32m--> 117\u001b[0;31m             \u001b[0;32mreturn\u001b[0m \u001b[0mfn\u001b[0m\u001b[0;34m(\u001b[0m\u001b[0;34m*\u001b[0m\u001b[0margs\u001b[0m\u001b[0;34m,\u001b[0m \u001b[0;34m**\u001b[0m\u001b[0mkwargs\u001b[0m\u001b[0;34m)\u001b[0m\u001b[0;34m\u001b[0m\u001b[0;34m\u001b[0m\u001b[0m\n\u001b[0m\u001b[1;32m    118\u001b[0m         \u001b[0;32mexcept\u001b[0m \u001b[0mException\u001b[0m \u001b[0;32mas\u001b[0m \u001b[0me\u001b[0m\u001b[0;34m:\u001b[0m\u001b[0;34m\u001b[0m\u001b[0;34m\u001b[0m\u001b[0m\n\u001b[1;32m    119\u001b[0m             \u001b[0mfiltered_tb\u001b[0m \u001b[0;34m=\u001b[0m \u001b[0m_process_traceback_frames\u001b[0m\u001b[0;34m(\u001b[0m\u001b[0me\u001b[0m\u001b[0;34m.\u001b[0m\u001b[0m__traceback__\u001b[0m\u001b[0;34m)\u001b[0m\u001b[0;34m\u001b[0m\u001b[0;34m\u001b[0m\u001b[0m\n",
            "\u001b[0;31mTypeError\u001b[0m: TensorFlowTrainer.fit() got an unexpected keyword argument 'use_multiprocessing'"
          ]
        }
      ],
      "source": [
        "# Start the timer\n",
        "start_time = time.time()\n",
        "\n",
        "# Train the model\n",
        "history = model.fit(\n",
        "    train_dataset,\n",
        "    epochs=20,\n",
        "    validation_data=val_dataset,\n",
        "    use_multiprocessing=True\n",
        ")\n",
        "\n",
        "# Stop the timer\n",
        "end_time = time.time()\n",
        "\n",
        "# Calculate the training time\n",
        "training_time = end_time - start_time\n",
        "minutes = int(training_time // 60)\n",
        "seconds = int(training_time % 60)"
      ]
    },
    {
      "cell_type": "code",
      "execution_count": null,
      "metadata": {
        "id": "r3Tbz8wD-3T0"
      },
      "outputs": [],
      "source": [
        "# Print the training time in minutes and seconds\n",
        "print(f\"Model training time: {minutes} minutes and {seconds} seconds\")"
      ]
    },
    {
      "cell_type": "code",
      "execution_count": null,
      "metadata": {
        "id": "FqT_VkO3U9S6"
      },
      "outputs": [],
      "source": [
        "# Plot training and validation accuracy and loss\n",
        "plt.figure(figsize=(12, 6))\n",
        "\n",
        "# Plot for training and validation accuracy\n",
        "plt.subplot(1, 2, 1)\n",
        "plt.plot(history.history['accuracy'], label='Train Accuracy')\n",
        "plt.plot(history.history['val_accuracy'], label='Val Accuracy')\n",
        "plt.legend()\n",
        "plt.title('Training and Validation Accuracy')\n",
        "plt.xlabel('Epochs')  # Label for the x-axis\n",
        "plt.ylabel('Accuracy')  # Label for the y-axis\n",
        "\n",
        "# Plot for training and validation loss\n",
        "plt.subplot(1, 2, 2)\n",
        "plt.plot(history.history['loss'], label='Train Loss')\n",
        "plt.plot(history.history['val_loss'], label='Val Loss')\n",
        "plt.legend()\n",
        "plt.title('Training and Validation Loss')\n",
        "plt.xlabel('Epochs')  # Label for the x-axis\n",
        "plt.ylabel('Loss')  # Label for the y-axis\n",
        "\n",
        "plt.show()"
      ]
    },
    {
      "cell_type": "markdown",
      "metadata": {
        "id": "SAY-j1YxVKQM"
      },
      "source": [
        "# Model Evaluation on Test Set w/ Various Trends"
      ]
    },
    {
      "cell_type": "code",
      "execution_count": null,
      "metadata": {
        "id": "NuWUQ5zRGAqE"
      },
      "outputs": [],
      "source": [
        "# Evaluate the model and print the results\n",
        "loss, accuracy, precision, recall = model.evaluate(test_dataset)\n",
        "print(f'Test accuracy: {accuracy:.2f}')\n",
        "print(f'Test precision: {precision:.2f}')\n",
        "print(f'Test recall: {recall:.2f}')"
      ]
    },
    {
      "cell_type": "code",
      "execution_count": null,
      "metadata": {
        "id": "awBGopDlRa6T"
      },
      "outputs": [],
      "source": [
        "# Function to get predictions and compare with true labels\n",
        "def get_predictions_and_labels(dataset):\n",
        "    predictions, labels = [], []\n",
        "\n",
        "    # Redirect stdout to suppress output\n",
        "    original_stdout = sys.stdout\n",
        "    sys.stdout = open('temp_stdout.txt', 'w')\n",
        "\n",
        "    for images, lbls in dataset:\n",
        "        preds = model.predict(images)  # Ensure input shape is (1, 150, 150, 3)\n",
        "        preds = (preds > 0.5).astype(int).flatten()  # Convert predictions to binary\n",
        "        predictions.extend(preds)\n",
        "        labels.extend(lbls.numpy().flatten())  # Flatten the labels\n",
        "\n",
        "    # Restore stdout\n",
        "    sys.stdout.close()\n",
        "    sys.stdout = original_stdout\n",
        "\n",
        "    return np.array(predictions), np.array(labels)\n",
        "\n",
        "# Inform the user that plots are being generated\n",
        "display(\"Retrieving test set data...\")\n",
        "\n",
        "# Introduce a small delay to ensure the text is visible\n",
        "time.sleep(0.5)\n",
        "\n",
        "# Get predictions and true labels\n",
        "predictions, true_labels = get_predictions_and_labels(test_dataset)\n",
        "\n",
        "# Clear the \"Generating plot...\" text\n",
        "clear_output()\n",
        "\n",
        "# Identify correct and incorrect predictions\n",
        "correct_preds = predictions == true_labels\n",
        "incorrect_preds = predictions != true_labels"
      ]
    },
    {
      "cell_type": "code",
      "execution_count": null,
      "metadata": {
        "id": "NH-EG6wQ6Q_S"
      },
      "outputs": [],
      "source": [
        "# Bar plot for correct and incorrect predictions\n",
        "plt.figure(figsize=(10, 6))\n",
        "plt.bar(['Correct', 'Incorrect'], [np.sum(correct_preds), np.sum(incorrect_preds)], color=['green', 'red'])\n",
        "plt.title('Summary of Predictions on Test Set')\n",
        "plt.xlabel('Prediction Type')\n",
        "plt.ylabel('Count')\n",
        "plt.show()"
      ]
    },
    {
      "cell_type": "code",
      "execution_count": null,
      "metadata": {
        "id": "djr1z_Qt6d96"
      },
      "outputs": [],
      "source": [
        "# Class Distribution in Predictions\n",
        "plt.figure(figsize=(10, 6))\n",
        "plt.bar(['Predicted Healthy', 'Predicted Tumorous'], [np.sum(predictions == 0), np.sum(predictions == 1)], color=['blue', 'orange'])\n",
        "plt.title('Class Distribution in Predictions')\n",
        "plt.xlabel('Predicted Class')\n",
        "plt.ylabel('Count')\n",
        "plt.show()"
      ]
    },
    {
      "cell_type": "code",
      "execution_count": null,
      "metadata": {
        "id": "-6jHrLRV6hFN"
      },
      "outputs": [],
      "source": [
        "# Error Analysis: False Positives vs False Negatives\n",
        "false_positives = np.sum((predictions == 1) & (true_labels == 0))\n",
        "false_negatives = np.sum((predictions == 0) & (true_labels == 1))\n",
        "plt.figure(figsize=(10, 6))\n",
        "plt.bar(['False Positives', 'False Negatives'], [false_positives, false_negatives], color=['cyan', 'magenta'])\n",
        "plt.title('Error Analysis: False Positives vs False Negatives')\n",
        "plt.xlabel('Error Type')\n",
        "plt.ylabel('Count')\n",
        "plt.show()"
      ]
    },
    {
      "cell_type": "markdown",
      "metadata": {
        "id": "nepGR9XGVx8z"
      },
      "source": [
        "# Model Evaluation on Outside Dataset w/ Various Trends"
      ]
    },
    {
      "cell_type": "code",
      "execution_count": null,
      "metadata": {
        "id": "GVhhGvrr3Bz5"
      },
      "outputs": [],
      "source": [
        "@contextlib.contextmanager\n",
        "def suppress_stdout():\n",
        "    with open(os.devnull, \"w\") as devnull:\n",
        "        old_stdout = sys.stdout\n",
        "        sys.stdout = devnull\n",
        "        try:\n",
        "            yield\n",
        "        finally:\n",
        "            sys.stdout = old_stdout"
      ]
    },
    {
      "cell_type": "code",
      "execution_count": null,
      "metadata": {
        "id": "jnyl7cFe3ENu"
      },
      "outputs": [],
      "source": [
        "# Predict on new data\n",
        "def predict_image(image_path):\n",
        "    img = tf.keras.preprocessing.image.load_img(image_path, target_size=(150, 150))\n",
        "    img_array = tf.keras.preprocessing.image.img_to_array(img)\n",
        "    img_array = np.expand_dims(img_array, axis=0)\n",
        "    img_array /= 255.0\n",
        "    with suppress_stdout():\n",
        "        prediction = model.predict(img_array)\n",
        "    return prediction[0][0]  # Assuming binary classification, return the prediction\n"
      ]
    },
    {
      "cell_type": "code",
      "execution_count": null,
      "metadata": {
        "id": "0DoxMOKj3MA7"
      },
      "outputs": [],
      "source": [
        "def process_directory(directory):\n",
        "    true_labels = []\n",
        "    predictions = []\n",
        "\n",
        "    healthy_count = 0\n",
        "    tumorous_count = 0\n",
        "\n",
        "    for filename in os.listdir(directory):\n",
        "        img_path = os.path.join(directory, filename)\n",
        "        if os.path.isfile(img_path):\n",
        "            prediction = predict_image(img_path)\n",
        "            true_label = 0 if \"normal\" in directory else 1  # Assuming directory name contains \"normal\" for healthy images\n",
        "            predicted_label = 1 if prediction > 0.5 else 0\n",
        "\n",
        "            true_labels.append(true_label)\n",
        "            predictions.append(predicted_label)\n",
        "\n",
        "            if predicted_label > 0.5:\n",
        "                tumorous_count += 1\n",
        "            else:\n",
        "                healthy_count += 1\n",
        "\n",
        "    total_images = healthy_count + tumorous_count\n",
        "    healthy_percentage = round((healthy_count / total_images) * 100, 2) if total_images > 0 else 0\n",
        "    tumorous_percentage = round((tumorous_count / total_images) * 100, 2) if total_images > 0 else 0\n",
        "    accuracy = round((sum([1 for i in range(len(true_labels)) if true_labels[i] == predictions[i]]) / len(true_labels)) * 100, 2)\n",
        "\n",
        "    return healthy_count, tumorous_count, healthy_percentage, tumorous_percentage, accuracy, true_labels, predictions\n"
      ]
    },
    {
      "cell_type": "code",
      "execution_count": null,
      "metadata": {
        "id": "lnq1mPjE3Se3"
      },
      "outputs": [],
      "source": [
        "# Directories for different tumor types\n",
        "directories = {\n",
        "    'Normal': '/content/Brain/Data/normal',\n",
        "    'Pituitary Tumor': '/content/Brain/Data/pituitary_tumor',\n",
        "    'Meningioma Tumor': '/content/Brain/Data/meningioma_tumor',\n",
        "    'Glioma Tumor': '/content/Brain/Data/glioma_tumor'\n",
        "}\n",
        "\n",
        "# Process each directory and collect data\n",
        "results = {}\n",
        "for tumor_type, directory in directories.items():\n",
        "    healthy_count, tumorous_count, healthy_percentage, tumorous_percentage, accuracy, true_labels, predictions = process_directory(directory)\n",
        "    results[tumor_type] = (healthy_count, tumorous_count, healthy_percentage, tumorous_percentage, accuracy, true_labels, predictions)\n",
        "    print(f\"{tumor_type}:\")\n",
        "    print(f\"  Total healthy images: {healthy_count}\")\n",
        "    print(f\"  Total tumorous images: {tumorous_count}\")\n",
        "    print(f\"  Healthy percentage: {healthy_percentage}%\")\n",
        "    print(f\"  Tumorous percentage: {tumorous_percentage}%\")\n",
        "    print(f\"  Accuracy: {accuracy}%\\n\")"
      ]
    },
    {
      "cell_type": "code",
      "execution_count": null,
      "metadata": {
        "id": "9BhtrYrBg2e9"
      },
      "outputs": [],
      "source": [
        "# Visualize Class Distribution\n",
        "classes = ['Normal', 'Meningioma', 'Glioma', 'Pituitary Tumor']\n",
        "class_counts = [len(os.listdir('/content/Brain/Data/normal')),\n",
        "                len(os.listdir('/content/Brain/Data/meningioma_tumor')),\n",
        "                len(os.listdir('/content/Brain/Data/glioma_tumor')),\n",
        "                len(os.listdir('/content/Brain/Data/pituitary_tumor'))]\n",
        "\n",
        "plt.figure(figsize=(10, 6))\n",
        "plt.bar(classes, class_counts, color=['blue', 'orange', 'green', 'red'])\n",
        "plt.title('Class Distribution')\n",
        "plt.xlabel('Class')\n",
        "plt.ylabel('Number of Samples')\n",
        "plt.show()\n"
      ]
    },
    {
      "cell_type": "code",
      "execution_count": null,
      "metadata": {
        "id": "beLycMZZ1-c_"
      },
      "outputs": [],
      "source": [
        "# Plot proportions of results\n",
        "def plot_proportions(data, title):\n",
        "    labels = data.keys()\n",
        "    healthy_percentages = [data[label][2] for label in labels]\n",
        "    tumorous_percentages = [data[label][3] for label in labels]\n",
        "\n",
        "    x = np.arange(len(labels))\n",
        "\n",
        "    fig, ax = plt.subplots(figsize=(12, 8))\n",
        "\n",
        "    bar_width = 0.35\n",
        "    opacity = 0.8\n",
        "\n",
        "    rects1 = plt.bar(x - bar_width/2, healthy_percentages, bar_width,\n",
        "    alpha=opacity,\n",
        "    color='g',\n",
        "    label='Healthy %')\n",
        "\n",
        "    rects2 = plt.bar(x + bar_width/2, tumorous_percentages, bar_width,\n",
        "    alpha=opacity,\n",
        "    color='r',\n",
        "    label='Tumorous %')\n",
        "\n",
        "    plt.xlabel('Tumor Type')\n",
        "    plt.ylabel('Percentage')\n",
        "    plt.title(title)\n",
        "    plt.xticks(x, labels)\n",
        "    plt.legend()\n",
        "\n",
        "    plt.tight_layout()\n",
        "    plt.show()\n",
        "\n",
        "plot_proportions(results, 'Brain Tumor Classification Results')"
      ]
    },
    {
      "cell_type": "code",
      "execution_count": null,
      "metadata": {
        "id": "5dbDkC-q279S"
      },
      "outputs": [],
      "source": [
        "# Plot accuracy of each type\n",
        "def plot_accuracy(data, title):\n",
        "    labels = data.keys()\n",
        "    accuracies = [data[label][4] for label in labels]\n",
        "\n",
        "    x = np.arange(len(labels))\n",
        "\n",
        "    plt.figure(figsize=(12, 8))\n",
        "    plt.bar(x, accuracies, color='b', alpha=0.7)\n",
        "    plt.xlabel('Tumor Type')\n",
        "    plt.ylabel('Accuracy (%)')\n",
        "    plt.title(title)\n",
        "    plt.xticks(x, labels)\n",
        "    plt.ylim(0, 100)\n",
        "\n",
        "    for i in range(len(accuracies)):\n",
        "        plt.text(x[i], accuracies[i] + 1, f'{accuracies[i]}%', ha='center')\n",
        "\n",
        "    plt.tight_layout()\n",
        "    plt.show()\n",
        "\n",
        "plot_accuracy(results, 'Model Accuracy by Tumor Type')"
      ]
    },
    {
      "cell_type": "code",
      "execution_count": null,
      "metadata": {
        "id": "qdGu_eIA3CGV"
      },
      "outputs": [],
      "source": [
        "# Plot confusion matrices for each type\n",
        "def plot_confusion_matrices(data, title):\n",
        "    labels = data.keys()\n",
        "\n",
        "    fig, axes = plt.subplots(1, len(labels), figsize=(20, 5))\n",
        "    fig.suptitle(title)\n",
        "\n",
        "    for i, label in enumerate(labels):\n",
        "        true_labels = data[label][5]\n",
        "        predictions = data[label][6]\n",
        "        cm = confusion_matrix(true_labels, predictions)\n",
        "\n",
        "        axes[i].imshow(cm, interpolation='nearest', cmap=plt.cm.Blues)\n",
        "        axes[i].set_title(label)\n",
        "        axes[i].set_xticks(np.arange(2))\n",
        "        axes[i].set_yticks(np.arange(2))\n",
        "        axes[i].set_xticklabels(['Healthy', 'Tumorous'])\n",
        "        axes[i].set_yticklabels(['Healthy', 'Tumorous'])\n",
        "\n",
        "        for j in range(2):\n",
        "            for k in range(2):\n",
        "                axes[i].text(k, j, cm[j, k], ha='center', va='center', color='red')\n",
        "\n",
        "        axes[i].set_xlabel('Predicted Label')\n",
        "        axes[i].set_ylabel('True Label')\n",
        "\n",
        "    plt.tight_layout()\n",
        "    plt.show()\n",
        "\n",
        "plot_confusion_matrices(results, 'Confusion Matrices by Tumor Type')"
      ]
    }
  ],
  "metadata": {
    "accelerator": "GPU",
    "colab": {
      "gpuType": "T4",
      "provenance": []
    },
    "kernelspec": {
      "display_name": "Python 3",
      "name": "python3"
    },
    "language_info": {
      "name": "python"
    }
  },
  "nbformat": 4,
  "nbformat_minor": 0
}